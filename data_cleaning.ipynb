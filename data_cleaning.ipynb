{
 "cells": [
  {
   "cell_type": "code",
   "execution_count": 31,
   "id": "5d2b2fb0-967b-4438-a28c-72413b5b3fa8",
   "metadata": {},
   "outputs": [],
   "source": [
    "import pandas as pd\n",
    "import numpy as np\n",
    "import copy as copy\n",
    "from datetime import datetime"
   ]
  },
  {
   "cell_type": "code",
   "execution_count": 32,
   "id": "9764c9aa-8b37-4bee-88b1-79d50536e769",
   "metadata": {},
   "outputs": [],
   "source": [
    "case_years = [\n",
    "    \"./precog_data/csv/cases/cases_2010.csv\",\n",
    "    \"./precog_data/csv/cases/cases_2011.csv\", \n",
    "    \"./precog_data/csv/cases/cases_2012.csv\", \n",
    "    \"./precog_data/csv/cases/cases_2013.csv\", \n",
    "    \"./precog_data/csv/cases/cases_2014.csv\", \n",
    "    \"./precog_data/csv/cases/cases_2015.csv\", \n",
    "    \"./precog_data/csv/cases/cases_2016.csv\", \n",
    "    \"./precog_data/csv/cases/cases_2017.csv\", \n",
    "    \"./precog_data/csv/cases/cases_2018.csv\", ]"
   ]
  },
  {
   "cell_type": "code",
   "execution_count": 33,
   "id": "60bfe9dd-9b51-49d6-a722-dd2c732e5e9d",
   "metadata": {},
   "outputs": [],
   "source": [
    "judge_df = pd.read_csv(\"./precog_data/csv/judges_clean.csv\")\n",
    "judge_df = judge_df.drop([\"state_code\", \"dist_code\", \"court_no\", \"judge_position\"], axis = 1)\n",
    "judge_df = judge_df.dropna()\n",
    "\n",
    "judge_merge_df = pd.read_csv(\"./precog_data/csv/keys/judge_case_merge_key.csv\")\n",
    "judge_merge_df = judge_merge_df.drop([\"ddl_filing_judge_id\"], axis = 1)\n",
    "judge_merge_df = judge_merge_df.dropna()"
   ]
  },
  {
   "cell_type": "code",
   "execution_count": 34,
   "id": "7bacb3c8-15e7-42ff-8ba2-5eaecd2343a7",
   "metadata": {},
   "outputs": [],
   "source": [
    "judge_merge_df = pd.read_csv(\"./precog_data/csv/keys/judge_case_merge_key.csv\")\n",
    "judge_merge_df = judge_merge_df.drop([\"ddl_filing_judge_id\"], axis = 1)\n",
    "judge_merge_df = judge_merge_df.dropna()"
   ]
  },
  {
   "cell_type": "code",
   "execution_count": 35,
   "id": "73d34242-e229-4744-90a4-c0d01c758577",
   "metadata": {},
   "outputs": [],
   "source": [
    "merged_judge = pd.merge(\n",
    "    left = judge_df,\n",
    "    right = judge_merge_df,\n",
    "    left_on = \"ddl_judge_id\",\n",
    "    right_on = \"ddl_decision_judge_id\",\n",
    "    how=\"inner\"\n",
    ")\n",
    "\n",
    "merged_judge = merged_judge.drop([\"ddl_judge_id\", \"ddl_decision_judge_id\"], axis = 1)"
   ]
  },
  {
   "cell_type": "code",
   "execution_count": 36,
   "id": "598f1743-61a7-4aca-ae6c-08cf74d1d9c1",
   "metadata": {},
   "outputs": [],
   "source": [
    "case_year_2010 = case_years[0]\n",
    "year_df = pd.read_csv(case_year_2010, usecols = [\"ddl_case_id\",\"female_defendant\", \"female_petitioner\",\"disp_name\",\"date_of_filing\",\"date_first_list\", \"state_code\"])\n",
    "year_df.dropna()\n",
    "\n",
    "year_df = year_df[(year_df[\"female_defendant\"] == \"0 male\") | (year_df[\"female_defendant\"] == \"1 female\")]\n",
    "year_df = year_df[(year_df[\"female_petitioner\"] == \"0 male\") | (year_df[\"female_petitioner\"] == \"1 female\")]\n",
    "\n",
    "\n",
    "temp_df = pd.merge(\n",
    "    left = merged_judge,\n",
    "    right = year_df,\n",
    "    on = \"ddl_case_id\",\n",
    "    how=\"inner\"\n",
    ")\n",
    "accumulator_df = temp_df"
   ]
  },
  {
   "cell_type": "code",
   "execution_count": 38,
   "id": "d72e7257-1234-4790-97f0-d112fcfaf802",
   "metadata": {},
   "outputs": [],
   "source": [
    "for i in range(1,9):\n",
    "    \n",
    "    year_df = pd.read_csv(case_years[i], usecols = [\"ddl_case_id\",\"female_defendant\", \"female_petitioner\",\"disp_name\",\"date_of_filing\",\"date_first_list\", \"state_code\"])\n",
    "    year_df.dropna()\n",
    "    \n",
    "    year_df = year_df[(year_df[\"female_defendant\"] == \"0 male\") | (year_df[\"female_defendant\"] == \"1 female\")]\n",
    "    year_df = year_df[(year_df[\"female_petitioner\"] == \"0 male\") | (year_df[\"female_petitioner\"] == \"1 female\")]\n",
    "    \n",
    "    temp_df = pd.merge(\n",
    "        left = merged_judge,\n",
    "        right = year_df,\n",
    "        on = \"ddl_case_id\",\n",
    "        how=\"inner\"\n",
    "    )\n",
    "    \n",
    "    accumulator_df = pd.concat([accumulator_df, temp_df], axis = 0)\n",
    "    save_df1 = copy.deepcopy(accumulator_df)"
   ]
  },
  {
   "cell_type": "code",
   "execution_count": 39,
   "id": "f222a75d-42ef-4b0f-b8fc-01802216589b",
   "metadata": {},
   "outputs": [
    {
     "name": "stderr",
     "output_type": "stream",
     "text": [
      "/var/folders/dn/j6pxg4n515q0bqtnmk38b6g00000gn/T/ipykernel_60363/1642017826.py:1: DtypeWarning: Columns (3) have mixed types. Specify dtype option on import or set low_memory=False.\n",
      "  act_df = pd.read_csv(\"./precog_data/csv/acts_sections.csv\")\n"
     ]
    }
   ],
   "source": [
    "act_df = pd.read_csv(\"./precog_data/csv/acts_sections.csv\")\n",
    "accumulator_df = pd.merge(\n",
    "    left = accumulator_df,\n",
    "    right = act_df,\n",
    "    on = \"ddl_case_id\",\n",
    "    how = \"inner\"\n",
    ")\n"
   ]
  },
  {
   "cell_type": "code",
   "execution_count": 40,
   "id": "79368302-974a-4d3e-a350-f392c21cd148",
   "metadata": {},
   "outputs": [],
   "source": [
    "save_df2 = copy.deepcopy(accumulator_df)"
   ]
  },
  {
   "cell_type": "code",
   "execution_count": null,
   "id": "c79c556f-0eb1-4341-8585-a5b6ccb7d05f",
   "metadata": {},
   "outputs": [],
   "source": [
    "accumulator_df = copy.deepcopy()"
   ]
  },
  {
   "cell_type": "code",
   "execution_count": 63,
   "id": "dc2a3f87-41d2-46b4-a135-413139a5b3f6",
   "metadata": {},
   "outputs": [],
   "source": [
    "accumulator_df = accumulator_df.drop([\"bailable_ipc\", \"number_sections_ipc\", \"section\", \"act\"], axis = 1)\n",
    "accumulator_df = accumulator_df[accumulator_df.notnull()]"
   ]
  },
  {
   "cell_type": "code",
   "execution_count": 64,
   "id": "6d2f644f-26aa-492b-9eb9-ee00509ba0b5",
   "metadata": {},
   "outputs": [],
   "source": [
    "act_df = pd.read_csv(\"./precog_data/csv/keys/disp_name_key.csv\")\n",
    "accumulator_df = pd.merge(\n",
    "    left = accumulator_df,\n",
    "    right = act_df,\n",
    "    on = \"disp_name\",\n",
    "    how = \"inner\"\n",
    ")"
   ]
  },
  {
   "cell_type": "code",
   "execution_count": 65,
   "id": "60878201-6346-4e53-904a-041688b9b618",
   "metadata": {},
   "outputs": [],
   "source": [
    "accumulator_df = accumulator_df.drop([\"count\"], axis = 1)\n",
    "accumulator_df = accumulator_df.dropna()"
   ]
  },
  {
   "cell_type": "code",
   "execution_count": 66,
   "id": "a833ccc7-bfdf-46b4-a855-ca79935e71aa",
   "metadata": {},
   "outputs": [],
   "source": [
    "def calculate_days(a, b):\n",
    "    # distance between the smaller a, and the bigger b date\n",
    "    \n",
    "    date_object_2 = datetime.strptime(str(a), '%Y-%m-%d').date()\n",
    "    date_object_1 = datetime.strptime(str(b), '%Y-%m-%d').date()\n",
    "        \n",
    "    return int((date_object_1 - date_object_2).days)"
   ]
  },
  {
   "cell_type": "code",
   "execution_count": 67,
   "id": "ed776816-83c5-4a9b-8db8-845d4c8e06c7",
   "metadata": {},
   "outputs": [],
   "source": [
    "def calculate_days_format(a, b):\n",
    "    # distance between the smaller a, and the bigger b date\n",
    "    \n",
    "    date_object_2 = datetime.strptime(str(a), '%d-%m-%Y').date()\n",
    "    date_object_1 = datetime.strptime(str(b), '%Y-%m-%d').date()\n",
    "        \n",
    "    return int((date_object_1 - date_object_2).days)"
   ]
  },
  {
   "cell_type": "code",
   "execution_count": 68,
   "id": "462ec7b3-882b-464c-b2a3-d73da8bd4574",
   "metadata": {},
   "outputs": [],
   "source": [
    "accumulator_df[\"filing_after_2010\"] = accumulator_df.apply(lambda row: calculate_days(\"2010-01-01\", row[\"date_of_filing\"]), axis = 1)"
   ]
  },
  {
   "cell_type": "code",
   "execution_count": 69,
   "id": "d9548d72-43dd-4bef-9416-6f14ffbefd39",
   "metadata": {},
   "outputs": [],
   "source": [
    "accumulator_df[\"first_list_after_2010\"] = accumulator_df.apply(lambda row: calculate_days(\"2010-01-01\", row[\"date_first_list\"]), axis = 1)"
   ]
  },
  {
   "cell_type": "code",
   "execution_count": 70,
   "id": "cf5f998d-9178-44d3-ad2a-b6bcd3b5242f",
   "metadata": {},
   "outputs": [],
   "source": [
    "accumulator_df[\"judge_exp_first\"] = accumulator_df.apply(lambda row: calculate_days_format(row[\"start_date\"], row[\"date_first_list\"]), axis = 1)"
   ]
  },
  {
   "cell_type": "code",
   "execution_count": 71,
   "id": "290136cf-7407-443a-b984-8f0ca7e6fe53",
   "metadata": {},
   "outputs": [],
   "source": [
    "accumulator_df = accumulator_df[accumulator_df[\"judge_exp_first\"] > 0]\n",
    "accumulator_df = accumulator_df[accumulator_df[\"filing_after_2010\"] > 0]\n",
    "accumulator_df = accumulator_df[accumulator_df[\"first_list_after_2010\"] > 0]\n",
    "accumulator_df = accumulator_df[(accumulator_df[\"first_list_after_2010\"] - accumulator_df[\"filing_after_2010\"]) > 0]"
   ]
  },
  {
   "cell_type": "code",
   "execution_count": 72,
   "id": "ef66e1fd-d930-4389-aab4-14cfc9c2f0ba",
   "metadata": {},
   "outputs": [],
   "source": [
    "accumulator_df = accumulator_df[accumulator_df[\"disp_name_s\"] != \"disposition var missing\"]"
   ]
  },
  {
   "cell_type": "code",
   "execution_count": null,
   "id": "36e94420-0434-4771-a367-c8ac331a8655",
   "metadata": {},
   "outputs": [],
   "source": [
    "accumulator_df = accumulator_df.drop([\"start_date\",\"ddl_case_id\", \"end_date\" , \"date_of_filing\", \"date_first_list\", \"disp_name_s\"], axis = 1)"
   ]
  },
  {
   "attachments": {},
   "cell_type": "markdown",
   "id": "3054e7e2-4205-4985-a0e3-770dad0fe216",
   "metadata": {},
   "source": [
    "### NOW WE HAVE OUR CLEANED DATASET:"
   ]
  },
  {
   "cell_type": "code",
   "execution_count": 116,
   "id": "6d22ba54-5ee2-4450-8422-be3808567131",
   "metadata": {},
   "outputs": [],
   "source": [
    "accumulator_df.to_csv(\"./precog_data/dataset.csv\")"
   ]
  }
 ],
 "metadata": {
  "kernelspec": {
   "display_name": "Python 3",
   "language": "python",
   "name": "python3"
  },
  "language_info": {
   "codemirror_mode": {
    "name": "ipython",
    "version": 3
   },
   "file_extension": ".py",
   "mimetype": "text/x-python",
   "name": "python",
   "nbconvert_exporter": "python",
   "pygments_lexer": "ipython3",
   "version": "3.10.1 (v3.10.1:2cd268a3a9, Dec  6 2021, 14:28:59) [Clang 13.0.0 (clang-1300.0.29.3)]"
  },
  "vscode": {
   "interpreter": {
    "hash": "aee8b7b246df8f9039afb4144a1f6fd8d2ca17a180786b69acc140d282b71a49"
   }
  }
 },
 "nbformat": 4,
 "nbformat_minor": 5
}
