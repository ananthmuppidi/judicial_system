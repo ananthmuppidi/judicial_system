{
 "cells": [
  {
   "cell_type": "markdown",
   "id": "ccb8491a-2f36-4e1d-9a0d-278c5aed3973",
   "metadata": {},
   "source": [
    "# BinaryClassifier to classify case into wether they are more likely to get acquitted or convicted"
   ]
  },
  {
   "cell_type": "markdown",
   "id": "8cee3da4-ae33-4f78-ba72-d3d626e1f74c",
   "metadata": {},
   "source": [
    "### Note: the trained model is saved in a pickle file at the end of this notebook"
   ]
  },
  {
   "cell_type": "markdown",
   "id": "60c984be-ccd8-4cb0-ae68-0cafd182f82f",
   "metadata": {},
   "source": [
    "---\n",
    "### *Preprocessing:*"
   ]
  },
  {
   "cell_type": "code",
   "execution_count": 183,
   "id": "0542aeb5-9a51-41e9-9f00-149cabe5a158",
   "metadata": {},
   "outputs": [],
   "source": [
    "import pandas as pd\n",
    "import numpy as np\n",
    "from sklearn.preprocessing import OneHotEncoder, StandardScaler, LabelEncoder\n",
    "from sklearn.compose import ColumnTransformer\n",
    "from sklearn.linear_model import LogisticRegression\n",
    "from sklearn.pipeline import make_pipeline\n",
    "from sklearn.ensemble import RandomForestClassifier\n",
    "from sklearn.model_selection import train_test_split\n",
    "from sklearn.model_selection import cross_validate\n",
    "from sklearn.metrics import confusion_matrix\n",
    "from sklearn.metrics import log_loss\n",
    "from sklearn.metrics import roc_curve  \n",
    "import matplotlib.pyplot as plt\n",
    "import pickle "
   ]
  },
  {
   "cell_type": "code",
   "execution_count": 157,
   "id": "26a4fd04-aa79-4f78-bee0-2acaa78c13d1",
   "metadata": {},
   "outputs": [],
   "source": [
    "dataset = pd.read_csv(\"./precog_data/dataset.csv\")\n",
    "dataset = dataset.drop([\"Unnamed: 0\"], axis = 1)"
   ]
  },
  {
   "cell_type": "code",
   "execution_count": 158,
   "id": "8821fabf-5795-4e96-9fe6-4f699d1f4570",
   "metadata": {},
   "outputs": [],
   "source": [
    "df = pd.read_csv(\"./precog_data/csv/keys/disp_name_key.csv\")"
   ]
  },
  {
   "cell_type": "code",
   "execution_count": 159,
   "id": "6f57e11b-268e-4d93-99e3-cb487cf4c6f5",
   "metadata": {},
   "outputs": [],
   "source": [
    "dataset_1 = pd.merge(\n",
    "    left = dataset,\n",
    "    right = df,\n",
    "    on = \"disp_name\",\n",
    "    how=\"left\"\n",
    ")"
   ]
  },
  {
   "cell_type": "code",
   "execution_count": 160,
   "id": "06fca961-77b3-4fd6-9c93-496f89a03473",
   "metadata": {},
   "outputs": [],
   "source": [
    "dataset_1 = dataset_1[(dataset_1[\"disp_name_s\"] == \"acquitted\") | (dataset_1[\"disp_name_s\"] == \"convicted\")]"
   ]
  },
  {
   "cell_type": "code",
   "execution_count": 161,
   "id": "d44cbb4e-aa2e-4359-9b74-6452009904ff",
   "metadata": {},
   "outputs": [],
   "source": [
    "dataset = dataset_1.drop([\"count\",\"year_x\"], axis = 1)"
   ]
  },
  {
   "cell_type": "markdown",
   "id": "5d2ba62a-5091-4463-a14a-6da75da4ca19",
   "metadata": {},
   "source": [
    "---\n",
    "###** Assigning boolean values to the disposition values of interest: ** "
   ]
  },
  {
   "cell_type": "code",
   "execution_count": 162,
   "id": "d6e7a62a-b54d-470e-9a2b-b72417c4141c",
   "metadata": {},
   "outputs": [],
   "source": [
    "def boolean_val(s):\n",
    "    if s == \"acquitted\":\n",
    "         return 1\n",
    "    else:\n",
    "        return 0"
   ]
  },
  {
   "cell_type": "code",
   "execution_count": 163,
   "id": "e2a4f1ca-0f76-425f-b3dc-cefe3f33835c",
   "metadata": {},
   "outputs": [],
   "source": [
    "dataset[\"bool_disp\"] = dataset.apply(lambda x : boolean_val(x[\"disp_name_s\"]), axis = 1)"
   ]
  },
  {
   "cell_type": "code",
   "execution_count": 164,
   "id": "de1b52e6-f885-4a88-bece-7de4f9766fc1",
   "metadata": {},
   "outputs": [],
   "source": [
    "dataset = dataset.drop([\"disp_name_s\", \"disp_name\"], axis = 1)"
   ]
  },
  {
   "cell_type": "markdown",
   "id": "436f0e24-ab3a-4cb1-8c91-d9d0aa714ccf",
   "metadata": {},
   "source": [
    "---\n",
    "### *Here we assign columns for numerical data and categorial data for better performance of a prediction model*"
   ]
  },
  {
   "cell_type": "code",
   "execution_count": 165,
   "id": "3049f00c-6bac-42be-aad5-43f7e7b986d1",
   "metadata": {},
   "outputs": [],
   "source": [
    "numerical_cols = [\"filing_after_2010\", \"first_list_after_2010\", \"judge_exp_first\"]\n",
    "categorical_cols = [\"female_judge\",\"state_code\",\"female_defendant\",\"female_petitioner\",\"criminal\", \"year_y\"]\n",
    "label_cols = [\"bool_disp\"]"
   ]
  },
  {
   "cell_type": "markdown",
   "id": "2db71d0e-ac8a-4c68-be77-ea7c1cc25cbc",
   "metadata": {},
   "source": [
    "### *Since we have so much categorial data, we use OneHotEncoder to encode all the categorial data, anwe use StandardScaling to standardize numerical data*"
   ]
  },
  {
   "cell_type": "code",
   "execution_count": 166,
   "id": "7d43059e-3b87-4939-9934-33e7eb1e112f",
   "metadata": {},
   "outputs": [],
   "source": [
    "categorial_preprocessor = OneHotEncoder(handle_unknown='ignore')\n",
    "numerical_preprocessor  = StandardScaler()"
   ]
  },
  {
   "cell_type": "code",
   "execution_count": 167,
   "id": "e3bc087a-8649-454d-8c24-92d9bcd73778",
   "metadata": {},
   "outputs": [],
   "source": [
    "preprocessor = ColumnTransformer([\n",
    "    ('one-hot-encoder', categorical_preprocessor, categorical_cols),\n",
    "    ('standard_scaler', numerical_preprocessor, numerical_cols),\n",
    "])"
   ]
  },
  {
   "cell_type": "markdown",
   "id": "09962869-b6bb-4d0b-9a7e-c6ad58c3ca25",
   "metadata": {},
   "source": [
    "### *RandomForestClassifier was chosen because DecisionTrees in general are the good at dealing with large amounts of categorial data Also, this classifier scales well with large data. Since we use 100 base node trees, our model is less likely to suffer from overfitting*"
   ]
  },
  {
   "cell_type": "code",
   "execution_count": 168,
   "id": "39d46412-a2d1-4e11-a22f-da5428371c47",
   "metadata": {},
   "outputs": [],
   "source": [
    "model = make_pipeline(preprocessor, RandomForestClassifier(n_estimators = 100))"
   ]
  },
  {
   "cell_type": "code",
   "execution_count": 169,
   "id": "cfcb22c2-f2cf-4f9e-b463-b27520ba22f7",
   "metadata": {},
   "outputs": [],
   "source": [
    "x = dataset[['female_judge', 'state_code', 'female_defendant', 'female_petitioner',\n",
    "       'criminal', 'year_y' , 'filing_after_2010',\n",
    "       'first_list_after_2010', 'judge_exp_first']]\n",
    "y = dataset['bool_disp']"
   ]
  },
  {
   "cell_type": "code",
   "execution_count": 170,
   "id": "08f8daeb-09c1-4a13-bd0a-fdf448c80be3",
   "metadata": {},
   "outputs": [],
   "source": [
    "x_train, x_test, y_train, y_test = train_test_split(x, y)"
   ]
  },
  {
   "cell_type": "code",
   "execution_count": 171,
   "id": "53e38368-d8f2-49ba-9c35-fdcc345a09ee",
   "metadata": {},
   "outputs": [
    {
     "name": "stdout",
     "output_type": "stream",
     "text": [
      "CPU times: user 1h 13min 9s, sys: 9.75 s, total: 1h 13min 18s\n",
      "Wall time: 1h 13min 22s\n"
     ]
    },
    {
     "data": {
      "text/plain": [
       "Pipeline(steps=[('columntransformer',\n",
       "                 ColumnTransformer(transformers=[('one-hot-encoder',\n",
       "                                                  OneHotEncoder(handle_unknown='ignore'),\n",
       "                                                  ['female_judge', 'state_code',\n",
       "                                                   'female_defendant',\n",
       "                                                   'female_petitioner',\n",
       "                                                   'criminal', 'year_y']),\n",
       "                                                 ('standard_scaler',\n",
       "                                                  StandardScaler(),\n",
       "                                                  ['filing_after_2010',\n",
       "                                                   'first_list_after_2010',\n",
       "                                                   'judge_exp_first'])])),\n",
       "                ('randomforestclassifier', RandomForestClassifier())])"
      ]
     },
     "execution_count": 171,
     "metadata": {},
     "output_type": "execute_result"
    }
   ],
   "source": [
    "%%time\n",
    "model.fit(x_train, y_train)"
   ]
  },
  {
   "cell_type": "markdown",
   "id": "fa61a99a-0f19-409a-9694-afadde60545b",
   "metadata": {},
   "source": [
    "---\n",
    "### Test Score:"
   ]
  },
  {
   "cell_type": "code",
   "execution_count": 172,
   "id": "5ba67b96-adb7-4a99-9112-3067fb9e5027",
   "metadata": {},
   "outputs": [
    {
     "data": {
      "text/plain": [
       "99.51983159626656"
      ]
     },
     "execution_count": 172,
     "metadata": {},
     "output_type": "execute_result"
    }
   ],
   "source": [
    "model.score(x_test, y_test) * 100"
   ]
  },
  {
   "cell_type": "markdown",
   "id": "ad6fe3da-77d1-4940-bd69-5f82deb98b63",
   "metadata": {},
   "source": [
    "### *As seen in the scoring metric on randomized test data, this model acheives a 99.5% accuracy, which means our model didnt overfit. Also, a 99.5% accuracy while only using baseline data (data that is available at the start of a case, and is very easy to fetch) means that this model very accurately predict wether a defendant is going to be convicted to acquited,  usually far before the judge makes a decision.*\n",
    "---"
   ]
  },
  {
   "cell_type": "markdown",
   "id": "b10dcd9e-a4ba-408e-8dc9-cbc8e17a9bc5",
   "metadata": {},
   "source": [
    "### Confusion Matrix : "
   ]
  },
  {
   "cell_type": "code",
   "execution_count": 177,
   "id": "d8edf426-82ff-45d8-8b9d-1e8aa0867590",
   "metadata": {},
   "outputs": [],
   "source": [
    "y_pred = model.predict(x_test)"
   ]
  },
  {
   "cell_type": "code",
   "execution_count": 176,
   "id": "f0743016-a45b-4a31-906d-ee67e6bce531",
   "metadata": {},
   "outputs": [
    {
     "data": {
      "text/plain": [
       "array([[ 291765,    4419],\n",
       "       [   3519, 1353467]])"
      ]
     },
     "execution_count": 176,
     "metadata": {},
     "output_type": "execute_result"
    }
   ],
   "source": [
    "confusion_matrix(y_test, y_pred)"
   ]
  },
  {
   "cell_type": "markdown",
   "id": "6d4b9f50-e5fd-490e-9979-7b73f3f7497c",
   "metadata": {
    "jp-MarkdownHeadingCollapsed": true,
    "tags": []
   },
   "source": [
    "### *The confusion matrix has a much higher density on the bottom right diagonal which shows that the model is accurate*\n",
    "---"
   ]
  },
  {
   "cell_type": "markdown",
   "id": "21985a01-059f-4bba-a055-b26ec36bbef2",
   "metadata": {},
   "source": [
    "---\n",
    "### Log_Loss:"
   ]
  },
  {
   "cell_type": "code",
   "execution_count": 184,
   "id": "1f169dce-0f9f-484f-b80f-aa8b94ce18e3",
   "metadata": {},
   "outputs": [
    {
     "data": {
      "text/plain": [
       "0.0072268075459298265"
      ]
     },
     "execution_count": 184,
     "metadata": {},
     "output_type": "execute_result"
    }
   ],
   "source": [
    "logloss = log_loss(y_test, model.predict_proba(x_test))\n",
    "logloss\n"
   ]
  },
  {
   "cell_type": "markdown",
   "id": "1ad021aa-b063-460b-99e9-5e8317938845",
   "metadata": {},
   "source": [
    "### *The cross entropy loss is very close to 0, indicative of a high performance model*\n",
    "---"
   ]
  },
  {
   "cell_type": "code",
   "execution_count": 180,
   "id": "54da51d9-1f5b-4c40-91f2-df11ce20d8d3",
   "metadata": {},
   "outputs": [],
   "source": [
    "# Run this cell to save classifier\n",
    "f = open(\"./precog_data/my_pickle\", \"wb\")\n",
    "pickle.dump(model, f)\n",
    "f.close()"
   ]
  },
  {
   "cell_type": "code",
   "execution_count": null,
   "id": "fa66d216-612d-412b-ab09-3ef639b69edd",
   "metadata": {},
   "outputs": [],
   "source": [
    "# Run this cell to get classifier from pickle\n",
    "f = open(\"./precog_data/my_pickle\", \"rb\")\n",
    "model = pickle.load(f)\n",
    "f.close"
   ]
  },
  {
   "cell_type": "markdown",
   "id": "70f4ab12-54d8-4b28-ae94-d9b2b32b5bf5",
   "metadata": {},
   "source": [
    "---"
   ]
  }
 ],
 "metadata": {
  "kernelspec": {
   "display_name": "Python 3 (ipykernel)",
   "language": "python",
   "name": "python3"
  },
  "language_info": {
   "codemirror_mode": {
    "name": "ipython",
    "version": 3
   },
   "file_extension": ".py",
   "mimetype": "text/x-python",
   "name": "python",
   "nbconvert_exporter": "python",
   "pygments_lexer": "ipython3",
   "version": "3.9.13"
  }
 },
 "nbformat": 4,
 "nbformat_minor": 5
}
