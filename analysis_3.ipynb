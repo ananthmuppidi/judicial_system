{
 "cells": [
  {
   "attachments": {},
   "cell_type": "markdown",
   "metadata": {},
   "source": [
    "# Time Taken to complete a case\n",
    "\n",
    "---\n"
   ]
  },
  {
   "attachments": {},
   "cell_type": "markdown",
   "metadata": {},
   "source": [
    "### _The objective of this analysis is to track the number of unfinished cases throughout the years, and to track the average time taken to complete a case to see if there is any correlation between the two._\n",
    "\n",
    "---\n"
   ]
  },
  {
   "attachments": {},
   "cell_type": "markdown",
   "metadata": {},
   "source": [
    "## Preprocessing:\n"
   ]
  },
  {
   "cell_type": "code",
   "execution_count": null,
   "metadata": {
    "_cell_guid": "b1076dfc-b9ad-4769-8c92-a6c4dae69d19",
    "_uuid": "8f2839f25d086af736a60e9eeb907d3b93b6e0e5",
    "tags": []
   },
   "outputs": [],
   "source": [
    "import numpy as np\n",
    "import pandas as pd\n",
    "from datetime import datetime\n",
    "import matplotlib.pyplot as plt\n"
   ]
  },
  {
   "cell_type": "code",
   "execution_count": null,
   "metadata": {
    "tags": []
   },
   "outputs": [],
   "source": [
    "case_years = [\n",
    "    \"./precog_data/csv/cases/cases_2010.csv\",\n",
    "    \"./precog_data/csv/cases/cases_2011.csv\",\n",
    "    \"./precog_data/csv/cases/cases_2012.csv\",\n",
    "    \"./precog_data/csv/cases/cases_2013.csv\",\n",
    "    \"./precog_data/csv/cases/cases_2014.csv\",\n",
    "    \"./precog_data/csv/cases/cases_2015.csv\",\n",
    "    \"./precog_data/csv/cases/cases_2016.csv\",\n",
    "    \"./precog_data/csv/cases/cases_2017.csv\",\n",
    "    \"./precog_data/csv/cases/cases_2018.csv\", ]\n"
   ]
  },
  {
   "attachments": {},
   "cell_type": "markdown",
   "metadata": {},
   "source": [
    "---\n",
    "\n",
    "## Finding the unfinished cases per year:\n"
   ]
  },
  {
   "cell_type": "code",
   "execution_count": 4,
   "metadata": {
    "execution": {
     "iopub.execute_input": "2023-01-19T15:38:23.097896Z",
     "iopub.status.busy": "2023-01-19T15:38:23.097357Z",
     "iopub.status.idle": "2023-01-19T15:43:14.171237Z",
     "shell.execute_reply": "2023-01-19T15:43:14.170014Z",
     "shell.execute_reply.started": "2023-01-19T15:38:23.097860Z"
    }
   },
   "outputs": [
    {
     "name": "stdout",
     "output_type": "stream",
     "text": [
      "CPU times: user 3min 6s, sys: 47.3 s, total: 3min 53s\n",
      "Wall time: 5min 17s\n"
     ]
    }
   ],
   "source": [
    "% % time\n",
    "total_cases_arr = []\n",
    "unfinished_cases_arr = []\n",
    "\n",
    "for case_year in case_years:\n",
    "\n",
    "    total_cases = 0\n",
    "    unfinished_cases = 0\n",
    "\n",
    "    cases_df = pd.read_csv(case_year, iterator=True, chunksize=1000000)\n",
    "    for case_df in cases_df:\n",
    "\n",
    "        total_cases += case_df.shape[0]\n",
    "        unfinished_cases += case_df[~case_df[\"date_of_decision\"].notna()\n",
    "                                    ].shape[0]\n",
    "\n",
    "    total_cases_arr.append(total_cases)\n",
    "    unfinished_cases_arr.append(unfinished_cases)\n"
   ]
  },
  {
   "cell_type": "code",
   "execution_count": 16,
   "metadata": {
    "execution": {
     "iopub.execute_input": "2023-01-19T15:56:35.265537Z",
     "iopub.status.busy": "2023-01-19T15:56:35.264556Z",
     "iopub.status.idle": "2023-01-19T15:56:35.271696Z",
     "shell.execute_reply": "2023-01-19T15:56:35.270685Z",
     "shell.execute_reply.started": "2023-01-19T15:56:35.265490Z"
    }
   },
   "outputs": [],
   "source": [
    "# plot the ratio of total cases to unfinished cases over the years\n",
    "plt_ratio_unfinished_y = []\n",
    "for i in range(0, 9):\n",
    "    plt_ratio_unfinished_y.append(\n",
    "        (unfinished_cases_arr[i] * 100)/total_cases_arr[i])\n",
    "plt_ratio_unfinished_x = [\"2010\", \"2011\", \"2012\",\n",
    "                          \"2013\", \"2014\", \"2015\", \"2016\", \"2017\", \"2018\"]\n"
   ]
  },
  {
   "cell_type": "code",
   "execution_count": 17,
   "metadata": {
    "execution": {
     "iopub.execute_input": "2023-01-19T15:56:59.118133Z",
     "iopub.status.busy": "2023-01-19T15:56:59.117675Z",
     "iopub.status.idle": "2023-01-19T15:56:59.365357Z",
     "shell.execute_reply": "2023-01-19T15:56:59.363991Z",
     "shell.execute_reply.started": "2023-01-19T15:56:59.118080Z"
    }
   },
   "outputs": [
    {
     "data": {
      "image/png": "[encoded data removed]",
      "text/plain": [
       "<Figure size 1440x720 with 1 Axes>"
      ]
     },
     "metadata": {
      "needs_background": "light"
     },
     "output_type": "display_data"
    }
   ],
   "source": [
    "fig = plt.figure(figsize=(20, 10))\n",
    "plt.plot(plt_ratio_unfinished_x, plt_ratio_unfinished_y, color='red')\n",
    "\n",
    "plt.xlabel(\"Year\")\n",
    "plt.ylabel(\"Unresolved Cases\")\n",
    "plt.title(\"Number of unresolved cases over the years\")\n",
    "plt.show()\n"
   ]
  },
  {
   "attachments": {},
   "cell_type": "markdown",
   "metadata": {},
   "source": [
    "### _The above graph shows an exponential increase in the number of unfinished cases_ **per year**, _which does not even include backlog from the previous years. This is an indication of the load on the judicial system._\n"
   ]
  },
  {
   "attachments": {},
   "cell_type": "markdown",
   "metadata": {},
   "source": [
    "---\n",
    "\n",
    "## Time taken for a judge to close a case over the years:\n"
   ]
  },
  {
   "cell_type": "code",
   "execution_count": 8,
   "metadata": {
    "tags": []
   },
   "outputs": [],
   "source": [
    "def calculate_days(a, b):\n",
    "    # helper function to calculate the days between two dates\n",
    "\n",
    "    date_object_1 = datetime.strptime(str(b), '%Y-%m-%d').date()\n",
    "    date_object_2 = datetime.strptime(str(a), '%Y-%m-%d').date()\n",
    "    ans = int((date_object_1 - date_object_2).days)\n",
    "    if ans < 0:\n",
    "        return 1\n",
    "    else:\n",
    "        return ans\n"
   ]
  },
  {
   "attachments": {},
   "cell_type": "markdown",
   "metadata": {},
   "source": [
    "### _The below cell accumulates the time taken between the date of filing and the date of decision for cases that have this data available, and stores the averages for each year in the average_times vector_\n"
   ]
  },
  {
   "cell_type": "code",
   "execution_count": 9,
   "metadata": {},
   "outputs": [
    {
     "name": "stdout",
     "output_type": "stream",
     "text": [
      "CPU times: user 19min 29s, sys: 1min 19s, total: 20min 48s\n",
      "Wall time: 23min 13s\n"
     ]
    }
   ],
   "source": [
    "%% time\n",
    "# average time to complete a decision, calculate using mean of (sum of means)\n",
    "average_times = []\n",
    "\n",
    "for case_year in case_years:\n",
    "\n",
    "    average_time_acc = 0\n",
    "    chunk_counter = 0\n",
    "    cases_df = pd.read_csv(case_year, iterator=True, chunksize=100000)\n",
    "\n",
    "    for case_df in cases_df:\n",
    "\n",
    "        case_df = case_df[case_df[\"date_of_filing\"].notna()]\n",
    "        case_df = case_df[case_df[\"date_of_decision\"].notna()]\n",
    "\n",
    "        case_df[\"days_to_complete\"] = case_df.apply(lambda row: calculate_days(row[\"date_of_filing\"],row[\"date_of_decision\"]), axis=1)\n",
    "        # some datapoints have bad year values, they are ommitted\n",
    "        case_df = case_df[(case_df[\"days_to_complete\"] < 4745)]\n",
    "\n",
    "        average_time_acc += case_df[\"days_to_complete\"].mean()\n",
    "        chunk_counter += 1\n",
    "    average_times.append(average_time_acc/chunk_counter)\n"
   ]
  },
  {
   "cell_type": "code",
   "execution_count": 18,
   "metadata": {
    "execution": {
     "iopub.execute_input": "2023-01-19T15:57:19.494268Z",
     "iopub.status.busy": "2023-01-19T15:57:19.493841Z",
     "iopub.status.idle": "2023-01-19T15:57:19.500195Z",
     "shell.execute_reply": "2023-01-19T15:57:19.498957Z",
     "shell.execute_reply.started": "2023-01-19T15:57:19.494232Z"
    }
   },
   "outputs": [],
   "source": [
    "\n",
    "average_times = [1139.5600585084742,\n",
    "                 942.2221557860486,\n",
    "                 777.9814353481255,\n",
    "                 596.5921784052974,\n",
    "                 454.80066704704825,\n",
    "                 361.36945968091135,\n",
    "                 253.00268866891776,\n",
    "                 154.9474819149497,\n",
    "                 78.05243489645055]\n"
   ]
  },
  {
   "cell_type": "code",
   "execution_count": 11,
   "metadata": {
    "execution": {
     "iopub.execute_input": "2023-01-19T15:57:19.909409Z",
     "iopub.status.busy": "2023-01-19T15:57:19.908832Z",
     "iopub.status.idle": "2023-01-19T15:57:19.915003Z",
     "shell.execute_reply": "2023-01-19T15:57:19.913785Z",
     "shell.execute_reply.started": "2023-01-19T15:57:19.909366Z"
    }
   },
   "outputs": [],
   "source": [
    "plt_avg_time_x = [\"2010\", \"2011\", \"2012\", \"2013\",\n",
    "                  \"2014\", \"2015\", \"2016\", \"2017\", \"2018\"]\n",
    "plt_avg_time_y = average_times\n"
   ]
  },
  {
   "cell_type": "code",
   "execution_count": 19,
   "metadata": {
    "execution": {
     "iopub.execute_input": "2023-01-19T15:57:20.315678Z",
     "iopub.status.busy": "2023-01-19T15:57:20.314576Z",
     "iopub.status.idle": "2023-01-19T15:57:20.546778Z",
     "shell.execute_reply": "2023-01-19T15:57:20.545555Z",
     "shell.execute_reply.started": "2023-01-19T15:57:20.315633Z"
    }
   },
   "outputs": [
    {
     "data": {
      "image/png": "[encoded data removed]",
      "text/plain": [
       "<Figure size 1440x720 with 1 Axes>"
      ]
     },
     "metadata": {
      "needs_background": "light"
     },
     "output_type": "display_data"
    }
   ],
   "source": [
    "fig = plt.figure(figsize=(20, 10))\n",
    "plt.plot(plt_avg_time_x, plt_avg_time_y, color='red',)\n",
    "\n",
    "plt.xlabel(\"Year\")\n",
    "plt.ylabel(\"Days\")\n",
    "plt.title(\"Days taken to resolve a case on average\")\n",
    "plt.show()\n"
   ]
  },
  {
   "attachments": {},
   "cell_type": "markdown",
   "metadata": {},
   "source": [
    "### _The above plot shows that the time it takes for a judge to make a decision is decreasing every year. (note : data towards the end years 2017 and 2018 is skewed because of lack of end dates further from 2017 and 2018, but the general decreasing trend still stands). Despite this, the number of unfinished cases are exponentilly rising_\n",
    "\n",
    "---\n"
   ]
  }
 ],
 "metadata": {
  "kernelspec": {
   "display_name": "Python 3",
   "language": "python",
   "name": "python3"
  },
  "language_info": {
   "codemirror_mode": {
    "name": "ipython",
    "version": 3
   },
   "file_extension": ".py",
   "mimetype": "text/x-python",
   "name": "python",
   "nbconvert_exporter": "python",
   "pygments_lexer": "ipython3",
   "version": "3.10.1 (v3.10.1:2cd268a3a9, Dec  6 2021, 14:28:59) [Clang 13.0.0 (clang-1300.0.29.3)]"
  },
  "vscode": {
   "interpreter": {
    "hash": "aee8b7b246df8f9039afb4144a1f6fd8d2ca17a180786b69acc140d282b71a49"
   }
  }
 },
 "nbformat": 4,
 "nbformat_minor": 4
}
